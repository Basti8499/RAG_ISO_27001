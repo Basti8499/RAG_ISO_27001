{
 "cells": [
  {
   "cell_type": "markdown",
   "metadata": {},
   "source": [
    "Notebook for translating a PDF document."
   ]
  },
  {
   "cell_type": "code",
   "execution_count": null,
   "metadata": {},
   "outputs": [],
   "source": [
    "from ipynb.fs.defs.a_preprocess_data import store_documents \n",
    "from ipynb.fs.defs.a_preprocess_data import get_pdf_documents\n",
    "\n",
    "from langchain.prompts.chat import (\n",
    "    ChatPromptTemplate,\n",
    "    SystemMessagePromptTemplate,\n",
    "    HumanMessagePromptTemplate,\n",
    ")\n",
    "from langchain.chat_models import ChatOpenAI\n",
    "from typing import List\n",
    "import tiktoken"
   ]
  },
  {
   "cell_type": "code",
   "execution_count": null,
   "metadata": {},
   "outputs": [],
   "source": [
    "def translate_text(text):\n",
    "    \"\"\"\n",
    "    Uses OpenAI's API to translate the given text.\n",
    "    \"\"\"\n",
    "\n",
    "    llm = ChatOpenAI() \n",
    "    system_message_prompt = SystemMessagePromptTemplate.from_template(\"\"\"Du bist ein hilfreicher Assistent, der Text von Deutsch nach Englisch übersetzt.\"\"\")\n",
    "    human_message_prompt = HumanMessagePromptTemplate.from_template(\"\"\"Bitte übersetze mir den folgenden Text: \\n \\n {text} \"\"\")\n",
    "    chat_prompt = ChatPromptTemplate.from_messages([system_message_prompt, human_message_prompt])\n",
    "    translation = llm(chat_prompt.format_prompt(text=text).to_messages()).content\n",
    "    return translation"
   ]
  },
  {
   "cell_type": "code",
   "execution_count": null,
   "metadata": {},
   "outputs": [],
   "source": [
    "def estimate_openai_price_for_qa_set_gen(text: str, model_name: str):\n",
    "    \"\"\"\n",
    "    Estimates the price for translating based on the text and model used.\n",
    "    \"\"\"\n",
    "\n",
    "    tokenizer = tiktoken.get_encoding(\"cl100k_base\")\n",
    "    token_length = len(tokenizer.encode(text))\n",
    "\n",
    "    print(\"Token Length = \", token_length)\n",
    "\n",
    "    if model_name == \"gpt-3.5-turbo\":\n",
    "        input_price = 0.0010 / 1000\n",
    "        output_price = 0.0020 / 1000\n",
    "    elif model_name == \"gpt-4\":\n",
    "        input_price = 0.03 / 1000\n",
    "        output_price = 0.06 / 1000\n",
    "    elif model_name == \"gpt-4-32k\":\n",
    "        input_price = 0.06 / 1000\n",
    "        output_price = 0.12 / 1000\n",
    "    else:\n",
    "        input_price = 0\n",
    "        output_price = 0        \n",
    "\n",
    "    price_translation_input = token_length * input_price\n",
    "    price_translation_output = token_length * output_price\n",
    "\n",
    "    print(\"Price in $ for translation = \", price_translation_input + price_translation_output)"
   ]
  },
  {
   "cell_type": "code",
   "execution_count": null,
   "metadata": {},
   "outputs": [],
   "source": [
    "def split_text(text: str) -> List[str]:\n",
    "    \"\"\"\n",
    "    Splits the given text in reasonable context sizes based on tokens.\n",
    "    \"\"\"\n",
    "\n",
    "    tokenizer = tiktoken.get_encoding(\"cl100k_base\")\n",
    "    tokens = tokenizer.encode(text)\n",
    "\n",
    "    parts = []\n",
    "    current_part = []\n",
    "\n",
    "    for token in tokens:\n",
    "        current_part.append(token)\n",
    "\n",
    "        if len(current_part) >= 2040:\n",
    "            parts.append(current_part)\n",
    "            current_part = []\n",
    "\n",
    "    if current_part:\n",
    "        parts.append(current_part)\n",
    "\n",
    "    texts = []\n",
    "    for part in parts:\n",
    "        text = tokenizer.decode(part)\n",
    "        texts.append(text)\n",
    "\n",
    "    return texts"
   ]
  },
  {
   "cell_type": "code",
   "execution_count": null,
   "metadata": {},
   "outputs": [],
   "source": [
    "# Get one PDF document\n",
    "docs = get_pdf_documents(True)\n",
    "last_doc = docs[len(docs) - 1]"
   ]
  },
  {
   "cell_type": "code",
   "execution_count": null,
   "metadata": {},
   "outputs": [],
   "source": [
    "estimate_openai_price_for_qa_set_gen(last_doc.page_content, \"gpt-3.5-turbo\")\n",
    "estimate_openai_price_for_qa_set_gen(last_doc.page_content, \"gpt-4\")\n",
    "estimate_openai_price_for_qa_set_gen(last_doc.page_content, \"gpt-4-32k\")"
   ]
  },
  {
   "cell_type": "code",
   "execution_count": null,
   "metadata": {},
   "outputs": [],
   "source": [
    "# Split the text\n",
    "split_texts = split_text(last_doc.page_content)\n",
    "len(split_texts)"
   ]
  },
  {
   "cell_type": "code",
   "execution_count": null,
   "metadata": {},
   "outputs": [],
   "source": [
    "import json\n",
    "\n",
    "# Translate the chunks and save them\n",
    "translations = []\n",
    "for index, split_text in enumerate(split_texts):\n",
    "    translated = translate_text(split_text)\n",
    "    translations.append(translated)\n",
    "\n",
    "    if (index + 1) % 10 == 0:\n",
    "        print(\"Index completed: \", index)\n",
    "\n",
    "    with open(\"./../../inputData/PDF/documents/translation_Kersten_2020\", 'w', encoding='utf-8') as json_file:\n",
    "        json.dump(translations, json_file, ensure_ascii=False, indent=4)"
   ]
  },
  {
   "cell_type": "code",
   "execution_count": null,
   "metadata": {},
   "outputs": [],
   "source": [
    "# Concatenate the chunks and store the translated document\n",
    "result_string = '\\n'.join(translations)\n",
    "last_doc.page_content = result_string\n",
    "docs[len(docs) - 1]\n",
    "\n",
    "store_documents(docs, \"./../../inputData/PDF/documents/all_documents\")\n",
    "last_doc = [last_doc]\n",
    "store_documents(last_doc, \"./../../inputData/PDF/documents/new_documents\")"
   ]
  }
 ],
 "metadata": {
  "kernelspec": {
   "display_name": ".venv",
   "language": "python",
   "name": "python3"
  },
  "language_info": {
   "codemirror_mode": {
    "name": "ipython",
    "version": 3
   },
   "file_extension": ".py",
   "mimetype": "text/x-python",
   "name": "python",
   "nbconvert_exporter": "python",
   "pygments_lexer": "ipython3",
   "version": "3.11.5"
  }
 },
 "nbformat": 4,
 "nbformat_minor": 2
}
