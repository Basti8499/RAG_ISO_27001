{
 "cells": [
  {
   "cell_type": "markdown",
   "metadata": {},
   "source": [
    "Notebook for pre-processing PDF files (removing pages)"
   ]
  },
  {
   "cell_type": "code",
   "execution_count": null,
   "metadata": {},
   "outputs": [],
   "source": [
    "import PyPDF2\n",
    "import os\n",
    "import pandas as pd\n",
    "import glob\n",
    "\n",
    "def remove_pages(input_pdf_path, pages_to_remove, output_pdf_path):\n",
    "    \"\"\"\n",
    "    Removes the specified pages from a PDF file in the specified location and saves it.\n",
    "    \"\"\"\n",
    "    with open(input_pdf_path, 'rb') as input_file:\n",
    "        pdf_reader = PyPDF2.PdfReader(input_file)\n",
    "        pdf_writer = PyPDF2.PdfWriter()\n",
    "\n",
    "        # Iterate through all pages in the original PDF\n",
    "        for page_num in range(len(pdf_reader.pages)):\n",
    "            # Check if the current page should not be removed\n",
    "            if page_num + 1 not in pages_to_remove:\n",
    "                # Add the page to the new PDF\n",
    "                pdf_writer.add_page(pdf_reader.pages[page_num])\n",
    "\n",
    "        # Write the modified PDF to a new file\n",
    "        with open(output_pdf_path, 'wb') as output_file:\n",
    "            pdf_writer.write(output_file)"
   ]
  },
  {
   "cell_type": "code",
   "execution_count": null,
   "metadata": {},
   "outputs": [],
   "source": [
    "def preprocess_and_delete_pages(file_path, ranges_to_remove):\n",
    "    \"\"\"\n",
    "    Loads the specified PDF from the uncleaned directory and removes the ranges of pages.\n",
    "    \"\"\"\n",
    "    input_directory = './../../inputData/PDF/uncleaned/'\n",
    "    output_directory = './../../inputData/PDF/cleaned/'\n",
    "    input_path = input_directory + file_path\n",
    "    file_name = os.path.basename(file_path)\n",
    "    output_path = output_directory + file_name\n",
    "\n",
    "    pages_to_remove = []\n",
    "    for range_to_remove in ranges_to_remove:\n",
    "        start_page, end_page = range_to_remove\n",
    "        for i in range(start_page, end_page + 1):\n",
    "            pages_to_remove.append(i)\n",
    "\n",
    "    remove_pages(input_path, pages_to_remove, output_path)"
   ]
  },
  {
   "cell_type": "code",
   "execution_count": null,
   "metadata": {},
   "outputs": [],
   "source": [
    "ranges = [(1,9), (103,105), (116,120)]\n",
    "preprocess_and_delete_pages(\"...\", ranges)"
   ]
  }
 ],
 "metadata": {
  "kernelspec": {
   "display_name": ".venv",
   "language": "python",
   "name": "python3"
  },
  "language_info": {
   "codemirror_mode": {
    "name": "ipython",
    "version": 3
   },
   "file_extension": ".py",
   "mimetype": "text/x-python",
   "name": "python",
   "nbconvert_exporter": "python",
   "pygments_lexer": "ipython3",
   "version": "3.11.5"
  }
 },
 "nbformat": 4,
 "nbformat_minor": 2
}
