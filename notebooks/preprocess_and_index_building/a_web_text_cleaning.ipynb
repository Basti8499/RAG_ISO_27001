{
 "cells": [
  {
   "cell_type": "markdown",
   "metadata": {},
   "source": [
    "Notebook for cleaning the web documents from the URLs.\n",
    "\n",
    "First import the documents from the uncleaned URLs and store the text into separate files. Then manually clean files and update it. After that, get all already cleaned documents and store both, only the new documents and all documents (old cleaned + new cleaned)."
   ]
  },
  {
   "cell_type": "code",
   "execution_count": null,
   "metadata": {},
   "outputs": [],
   "source": [
    "from ipynb.fs.defs.a_preprocess_data import get_web_documents_for_cleaning\n",
    "from ipynb.fs.defs.a_preprocess_data import get_web_documents\n",
    "from ipynb.fs.defs.a_preprocess_data import store_documents\n",
    "\n",
    "documents = get_web_documents_for_cleaning()\n",
    "already_cleaned_documents = get_web_documents(True)\n",
    "len(documents)"
   ]
  },
  {
   "cell_type": "code",
   "execution_count": null,
   "metadata": {},
   "outputs": [],
   "source": [
    "# Loop over the array and store each string in a separate txt file\n",
    "counter = 1\n",
    "for doc in documents:\n",
    "    # Specify the file name for each string (e.g., file0.txt, file1.txt, ...)\n",
    "    file_name = f\"file_{counter}.txt\"\n",
    "    counter += 1\n",
    "    \n",
    "    # Open the file in write mode\n",
    "    with open(file_name, 'w', encoding='utf-8') as file:\n",
    "        # Write the string to the file\n",
    "        file.write(doc.page_content)\n",
    "\n",
    "    print(f'The string has been successfully stored in {file_name}.')"
   ]
  },
  {
   "cell_type": "markdown",
   "metadata": {},
   "source": [
    "After executing the above cell, clean the texts manually in the created .txt files."
   ]
  },
  {
   "cell_type": "code",
   "execution_count": null,
   "metadata": {},
   "outputs": [],
   "source": [
    "cleaned_texts = []\n",
    "\n",
    "counter = 1\n",
    "for doc in documents:\n",
    "    # Specify the file name for each string (e.g., file0.txt, file1.txt, ...)\n",
    "    file_name = f\"file_{counter}.txt\"\n",
    "    counter += 1\n",
    "    \n",
    "    # Open the file in write mode\n",
    "    with open(file_name, 'r', encoding='utf-8') as file:\n",
    "        # Write the string to the file\n",
    "        text = file.read()\n",
    "        cleaned_texts.append(text)"
   ]
  },
  {
   "cell_type": "code",
   "execution_count": null,
   "metadata": {},
   "outputs": [],
   "source": [
    "# Set the new cleaned texts\n",
    "if len(documents) == len(cleaned_texts):\n",
    "    for i in range(len(documents)):\n",
    "        documents[i].page_content = cleaned_texts[i]\n",
    "else:\n",
    "    raise Exception(\"Error.\")"
   ]
  },
  {
   "cell_type": "code",
   "execution_count": null,
   "metadata": {},
   "outputs": [],
   "source": [
    "# Store only the new documents and all documents\n",
    "store_documents(documents, \"./../../inputData/Web/documents/newly_cleaned_documents\")\n",
    "\n",
    "\n",
    "already_cleaned_documents.extend(documents)\n",
    "store_documents(already_cleaned_documents, \"./../../inputData/Web/documents/all_cleaned_documents\")"
   ]
  },
  {
   "cell_type": "code",
   "execution_count": null,
   "metadata": {},
   "outputs": [],
   "source": [
    "# Update the URLs list for cleaned and uncleaned\n",
    "\n",
    "# Define the source and destination file paths\n",
    "uncleaned_url_file_path = \"./../../inputData/Web/URLs/uncleaned_urls.txt\"\n",
    "cleaned_url_file_path = \"./../../inputData/Web/URLs/cleaned_urls.txt\"\n",
    "\n",
    "# Read URLs from the source file and store them in a list\n",
    "with open(uncleaned_url_file_path, \"r\") as source_file:\n",
    "    urls = source_file.readlines()\n",
    "\n",
    "# Open the destination file in append mode and write the URLs to it\n",
    "with open(cleaned_url_file_path, \"a\") as destination_file:\n",
    "    destination_file.writelines(urls)\n",
    "\n",
    "# Remove the URLs from the source file\n",
    "with open(uncleaned_url_file_path, \"w\") as source_file:\n",
    "    source_file.write(\"\")\n",
    "\n",
    "# Print moved urls\n",
    "for url in urls:\n",
    "    print(\"Moved URL:\", url.strip())"
   ]
  }
 ],
 "metadata": {
  "kernelspec": {
   "display_name": ".venv",
   "language": "python",
   "name": "python3"
  },
  "language_info": {
   "codemirror_mode": {
    "name": "ipython",
    "version": 3
   },
   "file_extension": ".py",
   "mimetype": "text/x-python",
   "name": "python",
   "nbconvert_exporter": "python",
   "pygments_lexer": "ipython3",
   "version": "3.11.5"
  }
 },
 "nbformat": 4,
 "nbformat_minor": 2
}
