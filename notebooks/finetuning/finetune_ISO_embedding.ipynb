{
 "cells": [
  {
   "cell_type": "markdown",
   "metadata": {},
   "source": [
    "Notebook for creating a fine-tuning dataset and fine-tuning a model on it."
   ]
  },
  {
   "cell_type": "code",
   "execution_count": null,
   "metadata": {},
   "outputs": [],
   "source": [
    "from langchain.vectorstores import Chroma\n",
    "import chromadb\n",
    "import os\n",
    "import numpy as np\n",
    "from llama_index.core.schema import TextNode\n",
    "from llama_index.core.evaluation import generate_qa_embedding_pairs\n",
    "from llama_index.llms.openai import OpenAI\n",
    "\n",
    "def create_dataset_for_finetuning(collection_name: str, chunk_comb: str):\n",
    "    \"\"\"\n",
    "    Method for creating a dataset that can be used for fine-tuning based on an existing collection in Chroma. The chunk_comb is used for the path where the model is stored.\n",
    "    \"\"\"\n",
    "    \n",
    "    new_client = chromadb.PersistentClient(path=os.environ.get(\"CHROMA_PATH\"))\n",
    "    vectordb = Chroma(\n",
    "        client=new_client,\n",
    "        collection_name=collection_name,\n",
    "    )\n",
    "\n",
    "    documents = vectordb._collection.get()[\"documents\"]\n",
    "    # Select 1000 random documents\n",
    "    selected_documents = np.random.choice(documents, 1000, replace=False)\n",
    "\n",
    "    # Split the selected items into test and validation arrays with 80% and 20% of the items, respectively\n",
    "    train_size = int(len(selected_documents) * 0.8)\n",
    "\n",
    "    # Shuffle the selected items before splitting to ensure randomness\n",
    "    np.random.shuffle(selected_documents)\n",
    "\n",
    "    train_documents = selected_documents[:train_size]\n",
    "    val_documents = selected_documents[train_size:]\n",
    "\n",
    "    train_nodes = []\n",
    "    val_nodes = []\n",
    "\n",
    "    for train_doc in train_documents:\n",
    "        node = TextNode()\n",
    "        node.text = train_doc\n",
    "        train_nodes.append(node)\n",
    "\n",
    "    for val_doc in val_documents:\n",
    "        node = TextNode()\n",
    "        node.text = val_doc\n",
    "        val_nodes.append(node)\n",
    "\n",
    "    # Generates fitting questions based on the context with the help of an LLM.\n",
    "    train_dataset = generate_qa_embedding_pairs(\n",
    "        llm=OpenAI(model=\"gpt-3.5-turbo\"), nodes=train_nodes\n",
    "    )\n",
    "    train_dataset.save_json(f\"./datasets/{chunk_comb}/train_dataset.json\")\n",
    "\n",
    "    val_dataset = generate_qa_embedding_pairs(\n",
    "        llm=OpenAI(model=\"gpt-3.5-turbo\"), nodes=val_nodes\n",
    "    )\n",
    "    val_dataset.save_json(f\"./datasets/{chunk_comb}/val_dataset.json\")"
   ]
  },
  {
   "cell_type": "code",
   "execution_count": null,
   "metadata": {},
   "outputs": [],
   "source": [
    "from llama_index.core.evaluation import EmbeddingQAFinetuneDataset\n",
    "from llama_index.finetuning.embeddings.sentence_transformer import SentenceTransformersFinetuneEngine\n",
    "\n",
    "def finetune_model_on_documents(chunk_combination: str):\n",
    "  \"\"\"\n",
    "  Uses llama index to fine-tune the model on the created datasets.\n",
    "  \"\"\"\n",
    "  train_dataset = EmbeddingQAFinetuneDataset.from_json(f\"./datasets/{chunk_combination}/train_dataset.json\")\n",
    "  val_dataset = EmbeddingQAFinetuneDataset.from_json(f\"./datasets/{chunk_combination}/val_dataset.json\")\n",
    "\n",
    "  updated_data = {key: f\"Represent this sentence for searching relevant passages: {value}\" for key, value in train_dataset.queries.items()}\n",
    "  train_dataset.queries = updated_data\n",
    "  updated_data_val = {key: f\"Represent this sentence for searching relevant passages: {value}\" for key, value in val_dataset.queries.items()}\n",
    "  val_dataset.queries = updated_data_val\n",
    "\n",
    "  finetune_engine = SentenceTransformersFinetuneEngine(\n",
    "      train_dataset,\n",
    "      model_id=\"BAAI/bge-large-en-v1.5\",\n",
    "      model_output_path=f\"./models/finetuned-BGE-large-ISO-27001_{chunk_combination}\",\n",
    "      val_dataset=val_dataset,\n",
    "      epochs=5,\n",
    "      batch_size=8\n",
    "  )\n",
    "\n",
    "  finetune_engine.finetune()"
   ]
  }
 ],
 "metadata": {
  "kernelspec": {
   "display_name": ".venv",
   "language": "python",
   "name": "python3"
  },
  "language_info": {
   "codemirror_mode": {
    "name": "ipython",
    "version": 3
   },
   "file_extension": ".py",
   "mimetype": "text/x-python",
   "name": "python",
   "nbconvert_exporter": "python",
   "pygments_lexer": "ipython3",
   "version": "3.11.5"
  }
 },
 "nbformat": 4,
 "nbformat_minor": 2
}
